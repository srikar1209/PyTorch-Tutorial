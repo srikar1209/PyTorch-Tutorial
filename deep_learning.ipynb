{
  "nbformat": 4,
  "nbformat_minor": 0,
  "metadata": {
    "colab": {
      "provenance": [],
      "gpuType": "T4",
      "authorship_tag": "ABX9TyOXKdF5ofNzfpR4G1W/KB1N",
      "include_colab_link": true
    },
    "kernelspec": {
      "name": "python3",
      "display_name": "Python 3"
    },
    "language_info": {
      "name": "python"
    },
    "accelerator": "GPU"
  },
  "cells": [
    {
      "cell_type": "markdown",
      "metadata": {
        "id": "view-in-github",
        "colab_type": "text"
      },
      "source": [
        "<a href=\"https://colab.research.google.com/github/srikar1209/PyTorch-Tutorial/blob/main/deep_learning.ipynb\" target=\"_parent\"><img src=\"https://colab.research.google.com/assets/colab-badge.svg\" alt=\"Open In Colab\"/></a>"
      ]
    },
    {
      "cell_type": "code",
      "execution_count": 1,
      "metadata": {
        "id": "KnCaEw5gI24Y"
      },
      "outputs": [],
      "source": [
        "import torch\n",
        "import numpy as np"
      ]
    },
    {
      "cell_type": "code",
      "source": [
        "#Creatin a numpy array\n",
        "np1=np.random.rand(3,4)\n",
        "np1"
      ],
      "metadata": {
        "id": "EO8kzlKbMCvw",
        "colab": {
          "base_uri": "https://localhost:8080/"
        },
        "outputId": "d7af07d3-4df4-4042-829e-1f36d9591a1e"
      },
      "execution_count": 2,
      "outputs": [
        {
          "output_type": "execute_result",
          "data": {
            "text/plain": [
              "array([[0.69365434, 0.74450899, 0.6927429 , 0.39253278],\n",
              "       [0.25105494, 0.35241475, 0.48420472, 0.38908814],\n",
              "       [0.9289489 , 0.71726178, 0.43928884, 0.52651267]])"
            ]
          },
          "metadata": {},
          "execution_count": 2
        }
      ]
    },
    {
      "cell_type": "code",
      "source": [
        "import torch\n",
        "tensor_2d = torch.randn(3,4)\n",
        "tensor_2d"
      ],
      "metadata": {
        "colab": {
          "base_uri": "https://localhost:8080/"
        },
        "id": "jeVsZCMYTBYu",
        "outputId": "61ba6154-507e-4a00-8592-b5f3102e1e0b"
      },
      "execution_count": 2,
      "outputs": [
        {
          "output_type": "execute_result",
          "data": {
            "text/plain": [
              "tensor([[ 1.0068,  0.1529,  0.7680,  1.5681],\n",
              "        [-1.4708, -0.7720, -0.2418, -1.0356],\n",
              "        [ 2.3610,  1.6549,  1.3203,  0.5538]])"
            ]
          },
          "metadata": {},
          "execution_count": 2
        }
      ]
    },
    {
      "cell_type": "code",
      "source": [
        "tensor_3d = torch.randn(2,3,4)\n",
        "tensor_3d"
      ],
      "metadata": {
        "colab": {
          "base_uri": "https://localhost:8080/"
        },
        "id": "1u6hhPTvab2X",
        "outputId": "77b79fce-f7f3-4d95-9cfc-bf738e61ce4b"
      },
      "execution_count": 3,
      "outputs": [
        {
          "output_type": "execute_result",
          "data": {
            "text/plain": [
              "tensor([[[-1.4911,  1.0393, -0.6640,  1.2911],\n",
              "         [-1.0016, -0.6276,  1.1620, -0.2478],\n",
              "         [-1.3910,  2.1588, -1.2014, -0.3059]],\n",
              "\n",
              "        [[ 1.0831,  1.8355,  1.6788,  0.4565],\n",
              "         [ 0.1132,  0.2155, -0.2022, -1.2871],\n",
              "         [-0.1163,  0.3608,  0.3617, -0.3586]]])"
            ]
          },
          "metadata": {},
          "execution_count": 3
        }
      ]
    },
    {
      "cell_type": "code",
      "source": [
        "#create tensor out of numpy array\n",
        "import torch\n",
        "import numpy as np\n",
        "\n",
        "\n",
        "np1=np.random.rand(3,4)\n",
        "np1\n",
        "\n",
        "my_tensor = torch.tensor(np1)\n",
        "my_tensor"
      ],
      "metadata": {
        "colab": {
          "base_uri": "https://localhost:8080/"
        },
        "id": "SsQDNjtIamrX",
        "outputId": "78ca476b-46b5-4561-d58a-c67ae4a2bcd7"
      },
      "execution_count": 7,
      "outputs": [
        {
          "output_type": "execute_result",
          "data": {
            "text/plain": [
              "tensor([[0.2869, 0.9206, 0.0326, 0.1192],\n",
              "        [0.7603, 0.1174, 0.1710, 0.7951],\n",
              "        [0.4177, 0.7350, 0.6227, 0.0288]], dtype=torch.float64)"
            ]
          },
          "metadata": {},
          "execution_count": 7
        }
      ]
    },
    {
      "cell_type": "code",
      "source": [
        "import torch\n",
        "\n",
        "my_torch = torch.arange(10)\n",
        "my_torch"
      ],
      "metadata": {
        "colab": {
          "base_uri": "https://localhost:8080/"
        },
        "id": "Jpc4Dm1beny7",
        "outputId": "d5b51266-50cc-4311-a47d-91c024939606"
      },
      "execution_count": 8,
      "outputs": [
        {
          "output_type": "execute_result",
          "data": {
            "text/plain": [
              "tensor([0, 1, 2, 3, 4, 5, 6, 7, 8, 9])"
            ]
          },
          "metadata": {},
          "execution_count": 8
        }
      ]
    },
    {
      "cell_type": "code",
      "source": [
        "#reshape and view\n",
        "my_torch = my_torch.reshape(2,5)\n",
        "my_torch"
      ],
      "metadata": {
        "colab": {
          "base_uri": "https://localhost:8080/"
        },
        "id": "jAypHQTRe12T",
        "outputId": "72115779-01cf-43f8-ca1d-dc76b2a82b53"
      },
      "execution_count": 10,
      "outputs": [
        {
          "output_type": "execute_result",
          "data": {
            "text/plain": [
              "tensor([[0, 1, 2, 3, 4],\n",
              "        [5, 6, 7, 8, 9]])"
            ]
          },
          "metadata": {},
          "execution_count": 10
        }
      ]
    },
    {
      "cell_type": "code",
      "source": [
        "#reshape if we dont know the number of items using -1\n",
        "\n",
        "my_torch1 = torch.arange(15)\n",
        "print(my_torch1)\n",
        "\n",
        "print()\n",
        "\n",
        "my_torch1 = my_torch1.reshape(3,-1)\n",
        "my_torch1"
      ],
      "metadata": {
        "colab": {
          "base_uri": "https://localhost:8080/"
        },
        "id": "QryotVTofh4T",
        "outputId": "cfa43f37-605b-427c-9572-5fd404819b63"
      },
      "execution_count": 15,
      "outputs": [
        {
          "output_type": "stream",
          "name": "stdout",
          "text": [
            "tensor([ 0,  1,  2,  3,  4,  5,  6,  7,  8,  9, 10, 11, 12, 13, 14])\n",
            "\n"
          ]
        },
        {
          "output_type": "execute_result",
          "data": {
            "text/plain": [
              "tensor([[ 0,  1,  2,  3,  4],\n",
              "        [ 5,  6,  7,  8,  9],\n",
              "        [10, 11, 12, 13, 14]])"
            ]
          },
          "metadata": {},
          "execution_count": 15
        }
      ]
    },
    {
      "cell_type": "code",
      "source": [
        "#view\n",
        "my_torch3 = torch.arange(10)\n",
        "print(my_torch3)\n",
        "\n",
        "print()\n",
        "\n",
        "my_torch4 = my_torch3.view(2,5)\n",
        "my_torch4\n",
        "\n",
        "#the function of view and reshape is mostly similar with some minor differences"
      ],
      "metadata": {
        "colab": {
          "base_uri": "https://localhost:8080/"
        },
        "id": "G6no1Z1Hf6hp",
        "outputId": "339128e0-a753-48b9-dad7-c71f9f02a70c"
      },
      "execution_count": 17,
      "outputs": [
        {
          "output_type": "stream",
          "name": "stdout",
          "text": [
            "tensor([0, 1, 2, 3, 4, 5, 6, 7, 8, 9])\n",
            "\n"
          ]
        },
        {
          "output_type": "execute_result",
          "data": {
            "text/plain": [
              "tensor([[0, 1, 2, 3, 4],\n",
              "        [5, 6, 7, 8, 9]])"
            ]
          },
          "metadata": {},
          "execution_count": 17
        }
      ]
    },
    {
      "cell_type": "code",
      "source": [
        "#updating using reshape and view\n",
        "my_torch5 = torch.arange(10)\n",
        "print(my_torch5)\n",
        "\n",
        "print()\n",
        "\n",
        "my_torch6 = my_torch5.reshape(2,5)\n",
        "my_torch6"
      ],
      "metadata": {
        "colab": {
          "base_uri": "https://localhost:8080/"
        },
        "id": "4YVsBt1Kg4P5",
        "outputId": "d704fc25-f2a9-4739-e536-82fceb0dd00c"
      },
      "execution_count": 18,
      "outputs": [
        {
          "output_type": "stream",
          "name": "stdout",
          "text": [
            "tensor([0, 1, 2, 3, 4, 5, 6, 7, 8, 9])\n",
            "\n"
          ]
        },
        {
          "output_type": "execute_result",
          "data": {
            "text/plain": [
              "tensor([[0, 1, 2, 3, 4],\n",
              "        [5, 6, 7, 8, 9]])"
            ]
          },
          "metadata": {},
          "execution_count": 18
        }
      ]
    },
    {
      "cell_type": "code",
      "source": [
        "my_torch5[1] = 4141\n",
        "print(my_torch5)\n",
        "\n",
        "print()\n",
        "\n",
        "my_torch6"
      ],
      "metadata": {
        "colab": {
          "base_uri": "https://localhost:8080/"
        },
        "id": "YKWflcSzhlp8",
        "outputId": "acce6f62-39a8-45ce-e2e4-2128e141156e"
      },
      "execution_count": 19,
      "outputs": [
        {
          "output_type": "stream",
          "name": "stdout",
          "text": [
            "tensor([   0, 4141,    2,    3,    4,    5,    6,    7,    8,    9])\n",
            "\n"
          ]
        },
        {
          "output_type": "execute_result",
          "data": {
            "text/plain": [
              "tensor([[   0, 4141,    2,    3,    4],\n",
              "        [   5,    6,    7,    8,    9]])"
            ]
          },
          "metadata": {},
          "execution_count": 19
        }
      ]
    },
    {
      "cell_type": "code",
      "source": [
        "#slicing\n",
        "\n",
        "my_torch7 = torch.arange(10)\n",
        "print(my_torch7)\n",
        "\n",
        "print()\n",
        "\n",
        "my_torch8 = my_torch7.reshape(5,2)\n",
        "print(my_torch8)\n",
        "\n",
        "print()\n",
        "#returning values in the second column in a row\n",
        "print(my_torch8[:,1])\n",
        "\n",
        "print()\n",
        "#returning values in the second column in their form\n",
        "print(my_torch8[:,1:])"
      ],
      "metadata": {
        "colab": {
          "base_uri": "https://localhost:8080/"
        },
        "id": "JNXq_y6Ti5il",
        "outputId": "89d295ec-4580-4f80-9702-1e3957499a18"
      },
      "execution_count": 22,
      "outputs": [
        {
          "output_type": "stream",
          "name": "stdout",
          "text": [
            "tensor([0, 1, 2, 3, 4, 5, 6, 7, 8, 9])\n",
            "\n",
            "tensor([[0, 1],\n",
            "        [2, 3],\n",
            "        [4, 5],\n",
            "        [6, 7],\n",
            "        [8, 9]])\n",
            "\n",
            "tensor([1, 3, 5, 7, 9])\n",
            "\n",
            "tensor([[1],\n",
            "        [3],\n",
            "        [5],\n",
            "        [7],\n",
            "        [9]])\n"
          ]
        }
      ]
    },
    {
      "cell_type": "code",
      "source": [
        "# TENSOR MATH OPERATIONS\n",
        "import torch\n",
        "\n",
        "tensor_a = torch.tensor([1,2,3,4])\n",
        "tensor_b = torch.tensor([5,6,7,8])\n",
        "\n",
        "#Addition\n",
        "print(tensor_a + tensor_b)\n",
        "print(torch.add(tensor_a,tensor_b))#both yield the same result\n",
        "\n",
        "print()\n",
        "#Subtraction\n",
        "print(tensor_a - tensor_b)\n",
        "print(torch.sub(tensor_b,tensor_a))\n",
        "\n",
        "print()\n",
        "#Multiplication\n",
        "print(tensor_a * tensor_b)\n",
        "print(torch.mul(tensor_a,tensor_b))\n",
        "\n",
        "print()\n",
        "#Division\n",
        "print(tensor_b / tensor_a)\n",
        "print(torch.div(tensor_a,tensor_b))\n",
        "\n",
        "print()\n",
        "#Remainder\n",
        "print(tensor_b % tensor_a)\n",
        "print(torch.remainder(tensor_b,tensor_a))\n",
        "\n",
        "print()\n",
        "#Exponent\n",
        "print(tensor_a ** tensor_b)\n",
        "print(torch.pow(tensor_a,tensor_b))"
      ],
      "metadata": {
        "colab": {
          "base_uri": "https://localhost:8080/"
        },
        "id": "_bqWppJmkESa",
        "outputId": "3695c489-e1c6-4410-f415-d4af0f7eabc8"
      },
      "execution_count": 37,
      "outputs": [
        {
          "output_type": "stream",
          "name": "stdout",
          "text": [
            "tensor([ 6,  8, 10, 12])\n",
            "tensor([ 6,  8, 10, 12])\n",
            "\n",
            "tensor([-4, -4, -4, -4])\n",
            "tensor([4, 4, 4, 4])\n",
            "\n",
            "tensor([ 5, 12, 21, 32])\n",
            "tensor([ 5, 12, 21, 32])\n",
            "\n",
            "tensor([5.0000, 3.0000, 2.3333, 2.0000])\n",
            "tensor([0.2000, 0.3333, 0.4286, 0.5000])\n",
            "\n",
            "tensor([0, 0, 1, 0])\n",
            "tensor([0, 0, 1, 0])\n",
            "\n",
            "tensor([    1,    64,  2187, 65536])\n",
            "tensor([    1,    64,  2187, 65536])\n"
          ]
        }
      ]
    },
    {
      "cell_type": "code",
      "source": [
        "#Reassignment\n",
        "\n",
        "print(tensor_a + tensor_b)\n",
        "\n",
        "print(tensor_a)\n",
        "\n",
        "print()\n",
        "\n",
        "tensor_a.add_(tensor_b)\n",
        "\n",
        "print(tensor_a)"
      ],
      "metadata": {
        "colab": {
          "base_uri": "https://localhost:8080/"
        },
        "id": "KqRTXrO9naxg",
        "outputId": "8d328e76-4c1a-405c-fd35-ea9c13e6f48a"
      },
      "execution_count": 38,
      "outputs": [
        {
          "output_type": "stream",
          "name": "stdout",
          "text": [
            "tensor([ 6,  8, 10, 12])\n",
            "tensor([1, 2, 3, 4])\n",
            "\n",
            "tensor([ 6,  8, 10, 12])\n"
          ]
        }
      ]
    }
  ]
}